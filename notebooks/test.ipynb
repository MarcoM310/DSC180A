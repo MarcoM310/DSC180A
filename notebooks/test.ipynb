{
 "cells": [
  {
   "cell_type": "code",
   "execution_count": null,
   "metadata": {},
   "outputs": [],
   "source": []
  }
 ],
 "metadata": {
  "kernelspec": {
   "display_name": "Python 3.11.0 64-bit",
   "language": "python",
   "name": "python3"
  },
  "language_info": {
   "name": "python",
   "version": "3.11.0"
  },
  "orig_nbformat": 4,
  "vscode": {
   "interpreter": {
    "hash": "e26eb71b7afadce973c519945adbeeb75e9ae28dd18afbb6e95b75a01fd6e63f"
   }
  }
 },
 "nbformat": 4,
 "nbformat_minor": 2
}
