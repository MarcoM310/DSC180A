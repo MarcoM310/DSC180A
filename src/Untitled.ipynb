{
 "cells": [
  {
   "cell_type": "code",
   "execution_count": 2,
   "id": "85a51e59",
   "metadata": {},
   "outputs": [],
   "source": [
    "from data.make_dataset import save_files\n",
    "from features.build_features import files2df"
   ]
  },
  {
   "cell_type": "code",
   "execution_count": 3,
   "id": "9f4e7072",
   "metadata": {
    "scrolled": true
   },
   "outputs": [
    {
     "ename": "FileNotFoundError",
     "evalue": "[Errno 2] Unable to open file (unable to open file: name = '/home/ddavilag/teams/dsc-180a---a14-[88137]/bnpp_frontalonly_1024_0.hdf5', errno = 2, error message = 'No such file or directory', flags = 0, o_flags = 0)",
     "output_type": "error",
     "traceback": [
      "\u001b[1;31m---------------------------------------------------------------------------\u001b[0m",
      "\u001b[1;31mFileNotFoundError\u001b[0m                         Traceback (most recent call last)",
      "Cell \u001b[1;32mIn [3], line 1\u001b[0m\n\u001b[1;32m----> 1\u001b[0m save_files()\n",
      "File \u001b[1;32mc:\\Users\\david\\Desktop\\DSC 180A - FA22\\DSC180A\\src\\data\\make_dataset.py:48\u001b[0m, in \u001b[0;36msave_files\u001b[1;34m()\u001b[0m\n\u001b[0;32m     47\u001b[0m \u001b[39mdef\u001b[39;00m \u001b[39msave_files\u001b[39m():\n\u001b[1;32m---> 48\u001b[0m     hfs, train_df, test_df, val_df \u001b[39m=\u001b[39m read_ins()\n\u001b[0;32m     49\u001b[0m     keys, file_paths \u001b[39m=\u001b[39m [], []\n\u001b[0;32m     51\u001b[0m     \u001b[39mfor\u001b[39;00m hf \u001b[39min\u001b[39;00m hfs:\n",
      "File \u001b[1;32mc:\\Users\\david\\Desktop\\DSC 180A - FA22\\DSC180A\\src\\data\\make_dataset.py:21\u001b[0m, in \u001b[0;36mread_ins\u001b[1;34m()\u001b[0m\n\u001b[0;32m     19\u001b[0m         \u001b[39mcontinue\u001b[39;00m\n\u001b[0;32m     20\u001b[0m     \u001b[39m# print(os.path.exists(HF_PATH + str(i) + \".hdf5\"))\u001b[39;00m\n\u001b[1;32m---> 21\u001b[0m     hfs\u001b[39m.\u001b[39mappend(h5py\u001b[39m.\u001b[39;49mFile(HF_PATH \u001b[39m+\u001b[39;49m \u001b[39mstr\u001b[39;49m(i) \u001b[39m+\u001b[39;49m \u001b[39m\"\u001b[39;49m\u001b[39m.hdf5\u001b[39;49m\u001b[39m\"\u001b[39;49m, \u001b[39m\"\u001b[39;49m\u001b[39mr\u001b[39;49m\u001b[39m\"\u001b[39;49m))\n\u001b[0;32m     22\u001b[0m cols \u001b[39m=\u001b[39m [\u001b[39m\"\u001b[39m\u001b[39munique_key\u001b[39m\u001b[39m\"\u001b[39m, \u001b[39m\"\u001b[39m\u001b[39mbnpp_value_log\u001b[39m\u001b[39m\"\u001b[39m, \u001b[39m\"\u001b[39m\u001b[39mBNP_value\u001b[39m\u001b[39m\"\u001b[39m]\n\u001b[0;32m     23\u001b[0m test_df \u001b[39m=\u001b[39m pd\u001b[39m.\u001b[39mread_csv(\n\u001b[0;32m     24\u001b[0m     \u001b[39m\"\u001b[39m\u001b[39m/home/ddavilag/teams/dsc-180a---a14-[88137]/BNPP_DT_test_with_ages.csv\u001b[39m\u001b[39m\"\u001b[39m,\n\u001b[0;32m     25\u001b[0m     usecols\u001b[39m=\u001b[39mcols,\n\u001b[0;32m     26\u001b[0m )\u001b[39m.\u001b[39mset_index(\u001b[39m\"\u001b[39m\u001b[39munique_key\u001b[39m\u001b[39m\"\u001b[39m)\n",
      "File \u001b[1;32mc:\\Programming-Environments\\Python3-10-8\\lib\\site-packages\\h5py\\_hl\\files.py:533\u001b[0m, in \u001b[0;36mFile.__init__\u001b[1;34m(self, name, mode, driver, libver, userblock_size, swmr, rdcc_nslots, rdcc_nbytes, rdcc_w0, track_order, fs_strategy, fs_persist, fs_threshold, fs_page_size, page_buf_size, min_meta_keep, min_raw_keep, locking, alignment_threshold, alignment_interval, **kwds)\u001b[0m\n\u001b[0;32m    525\u001b[0m     fapl \u001b[39m=\u001b[39m make_fapl(driver, libver, rdcc_nslots, rdcc_nbytes, rdcc_w0,\n\u001b[0;32m    526\u001b[0m                      locking, page_buf_size, min_meta_keep, min_raw_keep,\n\u001b[0;32m    527\u001b[0m                      alignment_threshold\u001b[39m=\u001b[39malignment_threshold,\n\u001b[0;32m    528\u001b[0m                      alignment_interval\u001b[39m=\u001b[39malignment_interval,\n\u001b[0;32m    529\u001b[0m                      \u001b[39m*\u001b[39m\u001b[39m*\u001b[39mkwds)\n\u001b[0;32m    530\u001b[0m     fcpl \u001b[39m=\u001b[39m make_fcpl(track_order\u001b[39m=\u001b[39mtrack_order, fs_strategy\u001b[39m=\u001b[39mfs_strategy,\n\u001b[0;32m    531\u001b[0m                      fs_persist\u001b[39m=\u001b[39mfs_persist, fs_threshold\u001b[39m=\u001b[39mfs_threshold,\n\u001b[0;32m    532\u001b[0m                      fs_page_size\u001b[39m=\u001b[39mfs_page_size)\n\u001b[1;32m--> 533\u001b[0m     fid \u001b[39m=\u001b[39m make_fid(name, mode, userblock_size, fapl, fcpl, swmr\u001b[39m=\u001b[39;49mswmr)\n\u001b[0;32m    535\u001b[0m \u001b[39mif\u001b[39;00m \u001b[39misinstance\u001b[39m(libver, \u001b[39mtuple\u001b[39m):\n\u001b[0;32m    536\u001b[0m     \u001b[39mself\u001b[39m\u001b[39m.\u001b[39m_libver \u001b[39m=\u001b[39m libver\n",
      "File \u001b[1;32mc:\\Programming-Environments\\Python3-10-8\\lib\\site-packages\\h5py\\_hl\\files.py:226\u001b[0m, in \u001b[0;36mmake_fid\u001b[1;34m(name, mode, userblock_size, fapl, fcpl, swmr)\u001b[0m\n\u001b[0;32m    224\u001b[0m     \u001b[39mif\u001b[39;00m swmr \u001b[39mand\u001b[39;00m swmr_support:\n\u001b[0;32m    225\u001b[0m         flags \u001b[39m|\u001b[39m\u001b[39m=\u001b[39m h5f\u001b[39m.\u001b[39mACC_SWMR_READ\n\u001b[1;32m--> 226\u001b[0m     fid \u001b[39m=\u001b[39m h5f\u001b[39m.\u001b[39;49mopen(name, flags, fapl\u001b[39m=\u001b[39;49mfapl)\n\u001b[0;32m    227\u001b[0m \u001b[39melif\u001b[39;00m mode \u001b[39m==\u001b[39m \u001b[39m'\u001b[39m\u001b[39mr+\u001b[39m\u001b[39m'\u001b[39m:\n\u001b[0;32m    228\u001b[0m     fid \u001b[39m=\u001b[39m h5f\u001b[39m.\u001b[39mopen(name, h5f\u001b[39m.\u001b[39mACC_RDWR, fapl\u001b[39m=\u001b[39mfapl)\n",
      "File \u001b[1;32mh5py\\_objects.pyx:54\u001b[0m, in \u001b[0;36mh5py._objects.with_phil.wrapper\u001b[1;34m()\u001b[0m\n",
      "File \u001b[1;32mh5py\\_objects.pyx:55\u001b[0m, in \u001b[0;36mh5py._objects.with_phil.wrapper\u001b[1;34m()\u001b[0m\n",
      "File \u001b[1;32mh5py\\h5f.pyx:106\u001b[0m, in \u001b[0;36mh5py.h5f.open\u001b[1;34m()\u001b[0m\n",
      "\u001b[1;31mFileNotFoundError\u001b[0m: [Errno 2] Unable to open file (unable to open file: name = '/home/ddavilag/teams/dsc-180a---a14-[88137]/bnpp_frontalonly_1024_0.hdf5', errno = 2, error message = 'No such file or directory', flags = 0, o_flags = 0)"
     ]
    }
   ],
   "source": [
    "save_files()"
   ]
  },
  {
   "cell_type": "code",
   "execution_count": 3,
   "id": "255f4fa0",
   "metadata": {},
   "outputs": [],
   "source": [
    "train_df, test_df, val_df = files2df()"
   ]
  },
  {
   "cell_type": "code",
   "execution_count": 4,
   "id": "32d293de",
   "metadata": {},
   "outputs": [
    {
     "data": {
      "text/html": [
       "<div>\n",
       "<style scoped>\n",
       "    .dataframe tbody tr th:only-of-type {\n",
       "        vertical-align: middle;\n",
       "    }\n",
       "\n",
       "    .dataframe tbody tr th {\n",
       "        vertical-align: top;\n",
       "    }\n",
       "\n",
       "    .dataframe thead th {\n",
       "        text-align: right;\n",
       "    }\n",
       "</style>\n",
       "<table border=\"1\" class=\"dataframe\">\n",
       "  <thead>\n",
       "    <tr style=\"text-align: right;\">\n",
       "      <th></th>\n",
       "      <th>unique_key</th>\n",
       "      <th>bnpp_value_log</th>\n",
       "      <th>BNP_value</th>\n",
       "      <th>path</th>\n",
       "      <th>heart</th>\n",
       "    </tr>\n",
       "  </thead>\n",
       "  <tbody>\n",
       "    <tr>\n",
       "      <th>0</th>\n",
       "      <td>Abachug_50267230_img1</td>\n",
       "      <td>2.621176</td>\n",
       "      <td>418.0</td>\n",
       "      <td>/home/ddavilag/private/data/bnpp_224_pandas/Ab...</td>\n",
       "      <td>1</td>\n",
       "    </tr>\n",
       "    <tr>\n",
       "      <th>1</th>\n",
       "      <td>Abafouck_52403307_img1</td>\n",
       "      <td>2.071882</td>\n",
       "      <td>118.0</td>\n",
       "      <td>/home/ddavilag/private/data/bnpp_224_pandas/Ab...</td>\n",
       "      <td>0</td>\n",
       "    </tr>\n",
       "    <tr>\n",
       "      <th>2</th>\n",
       "      <td>Abagash_52691625_img1</td>\n",
       "      <td>1.698101</td>\n",
       "      <td>49.9</td>\n",
       "      <td>/home/ddavilag/private/data/bnpp_224_pandas/Ab...</td>\n",
       "      <td>0</td>\n",
       "    </tr>\n",
       "    <tr>\n",
       "      <th>3</th>\n",
       "      <td>Abakleem_50725934_img1</td>\n",
       "      <td>4.301659</td>\n",
       "      <td>20029.0</td>\n",
       "      <td>/home/ddavilag/private/data/bnpp_224_pandas/Ab...</td>\n",
       "      <td>1</td>\n",
       "    </tr>\n",
       "    <tr>\n",
       "      <th>4</th>\n",
       "      <td>Abaphos_51936331_img1</td>\n",
       "      <td>3.219323</td>\n",
       "      <td>1657.0</td>\n",
       "      <td>/home/ddavilag/private/data/bnpp_224_pandas/Ab...</td>\n",
       "      <td>1</td>\n",
       "    </tr>\n",
       "    <tr>\n",
       "      <th>...</th>\n",
       "      <td>...</td>\n",
       "      <td>...</td>\n",
       "      <td>...</td>\n",
       "      <td>...</td>\n",
       "      <td>...</td>\n",
       "    </tr>\n",
       "    <tr>\n",
       "      <th>15159</th>\n",
       "      <td>Zolisjeg_52354860_img1</td>\n",
       "      <td>2.550228</td>\n",
       "      <td>355.0</td>\n",
       "      <td>/home/ddavilag/private/data/bnpp_224_pandas/Zo...</td>\n",
       "      <td>0</td>\n",
       "    </tr>\n",
       "    <tr>\n",
       "      <th>15160</th>\n",
       "      <td>Zufibo_50586634_img1</td>\n",
       "      <td>2.772322</td>\n",
       "      <td>592.0</td>\n",
       "      <td>/home/ddavilag/private/data/bnpp_224_pandas/Zu...</td>\n",
       "      <td>1</td>\n",
       "    </tr>\n",
       "    <tr>\n",
       "      <th>15161</th>\n",
       "      <td>Zufosloo_50189474_img1</td>\n",
       "      <td>3.475381</td>\n",
       "      <td>2988.0</td>\n",
       "      <td>/home/ddavilag/private/data/bnpp_224_pandas/Zu...</td>\n",
       "      <td>1</td>\n",
       "    </tr>\n",
       "    <tr>\n",
       "      <th>15162</th>\n",
       "      <td>Zunakot_51932665_img1</td>\n",
       "      <td>2.089905</td>\n",
       "      <td>123.0</td>\n",
       "      <td>/home/ddavilag/private/data/bnpp_224_pandas/Zu...</td>\n",
       "      <td>0</td>\n",
       "    </tr>\n",
       "    <tr>\n",
       "      <th>15163</th>\n",
       "      <td>Zuridi_50548513_img1</td>\n",
       "      <td>3.188084</td>\n",
       "      <td>1542.0</td>\n",
       "      <td>/home/ddavilag/private/data/bnpp_224_pandas/Zu...</td>\n",
       "      <td>1</td>\n",
       "    </tr>\n",
       "  </tbody>\n",
       "</table>\n",
       "<p>15164 rows × 5 columns</p>\n",
       "</div>"
      ],
      "text/plain": [
       "                   unique_key  bnpp_value_log  BNP_value  \\\n",
       "0       Abachug_50267230_img1        2.621176      418.0   \n",
       "1      Abafouck_52403307_img1        2.071882      118.0   \n",
       "2       Abagash_52691625_img1        1.698101       49.9   \n",
       "3      Abakleem_50725934_img1        4.301659    20029.0   \n",
       "4       Abaphos_51936331_img1        3.219323     1657.0   \n",
       "...                       ...             ...        ...   \n",
       "15159  Zolisjeg_52354860_img1        2.550228      355.0   \n",
       "15160    Zufibo_50586634_img1        2.772322      592.0   \n",
       "15161  Zufosloo_50189474_img1        3.475381     2988.0   \n",
       "15162   Zunakot_51932665_img1        2.089905      123.0   \n",
       "15163    Zuridi_50548513_img1        3.188084     1542.0   \n",
       "\n",
       "                                                    path  heart  \n",
       "0      /home/ddavilag/private/data/bnpp_224_pandas/Ab...      1  \n",
       "1      /home/ddavilag/private/data/bnpp_224_pandas/Ab...      0  \n",
       "2      /home/ddavilag/private/data/bnpp_224_pandas/Ab...      0  \n",
       "3      /home/ddavilag/private/data/bnpp_224_pandas/Ab...      1  \n",
       "4      /home/ddavilag/private/data/bnpp_224_pandas/Ab...      1  \n",
       "...                                                  ...    ...  \n",
       "15159  /home/ddavilag/private/data/bnpp_224_pandas/Zo...      0  \n",
       "15160  /home/ddavilag/private/data/bnpp_224_pandas/Zu...      1  \n",
       "15161  /home/ddavilag/private/data/bnpp_224_pandas/Zu...      1  \n",
       "15162  /home/ddavilag/private/data/bnpp_224_pandas/Zu...      0  \n",
       "15163  /home/ddavilag/private/data/bnpp_224_pandas/Zu...      1  \n",
       "\n",
       "[15164 rows x 5 columns]"
      ]
     },
     "execution_count": 4,
     "metadata": {},
     "output_type": "execute_result"
    }
   ],
   "source": [
    "train_df"
   ]
  },
  {
   "cell_type": "code",
   "execution_count": 7,
   "id": "112657de",
   "metadata": {},
   "outputs": [],
   "source": [
    "train_df.to_csv(\"/home/ddavilag/private/DSC180A_Final/DSC180A/data/out/traindata.csv\")\n",
    "test_df.to_csv(\"/home/ddavilag/private/DSC180A_Final/DSC180A/data/out/testdata.csv\")\n",
    "val_df.to_csv(\"/home/ddavilag/private/DSC180A_Final/DSC180A/data/out/valdata.csv\")"
   ]
  },
  {
   "cell_type": "code",
   "execution_count": 8,
   "id": "f32bfc3e",
   "metadata": {},
   "outputs": [],
   "source": [
    "test_df.to_csv(\"/home/ddavilag/private/DSC180A_Final/DSC180A/test/testdata.csv\")"
   ]
  },
  {
   "cell_type": "code",
   "execution_count": null,
   "id": "2a1ef3b6",
   "metadata": {},
   "outputs": [],
   "source": []
  }
 ],
 "metadata": {
  "kernelspec": {
   "display_name": "Python 3.10.8 64-bit",
   "language": "python",
   "name": "python3"
  },
  "language_info": {
   "codemirror_mode": {
    "name": "ipython",
    "version": 3
   },
   "file_extension": ".py",
   "mimetype": "text/x-python",
   "name": "python",
   "nbconvert_exporter": "python",
   "pygments_lexer": "ipython3",
   "version": "3.10.8"
  },
  "vscode": {
   "interpreter": {
    "hash": "22aa156fa7c00851ea741537c2682c37a12e5d44ca96aed20eea4960f5f5ec6f"
   }
  }
 },
 "nbformat": 4,
 "nbformat_minor": 5
}
