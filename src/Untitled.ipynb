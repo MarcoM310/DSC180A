{
 "cells": [
  {
   "cell_type": "code",
   "execution_count": 1,
   "id": "85a51e59",
   "metadata": {},
   "outputs": [],
   "source": [
    "from data.make_dataset import save_files\n",
    "from features.build_features import files2df"
   ]
  },
  {
   "cell_type": "code",
   "execution_count": 2,
   "id": "9f4e7072",
   "metadata": {
    "scrolled": true
   },
   "outputs": [
    {
     "name": "stderr",
     "output_type": "stream",
     "text": [
      "100%|██████████| 2700/2700 [00:44<00:00, 60.62it/s]\n",
      "100%|██████████| 2700/2700 [00:41<00:00, 64.88it/s]\n",
      "100%|██████████| 2700/2700 [00:44<00:00, 61.20it/s]\n",
      "100%|██████████| 2700/2700 [00:59<00:00, 45.63it/s]\n",
      "100%|██████████| 2700/2700 [01:12<00:00, 37.12it/s]\n",
      "100%|██████████| 2700/2700 [01:09<00:00, 39.07it/s]\n",
      "100%|██████████| 2700/2700 [01:03<00:00, 42.47it/s]\n",
      "100%|██████████| 749/749 [00:11<00:00, 64.04it/s]\n"
     ]
    }
   ],
   "source": [
    "save_files()"
   ]
  },
  {
   "cell_type": "code",
   "execution_count": 3,
   "id": "255f4fa0",
   "metadata": {},
   "outputs": [],
   "source": [
    "train_df, test_df, val_df = files2df()"
   ]
  },
  {
   "cell_type": "code",
   "execution_count": 4,
   "id": "32d293de",
   "metadata": {},
   "outputs": [
    {
     "data": {
      "text/html": [
       "<div>\n",
       "<style scoped>\n",
       "    .dataframe tbody tr th:only-of-type {\n",
       "        vertical-align: middle;\n",
       "    }\n",
       "\n",
       "    .dataframe tbody tr th {\n",
       "        vertical-align: top;\n",
       "    }\n",
       "\n",
       "    .dataframe thead th {\n",
       "        text-align: right;\n",
       "    }\n",
       "</style>\n",
       "<table border=\"1\" class=\"dataframe\">\n",
       "  <thead>\n",
       "    <tr style=\"text-align: right;\">\n",
       "      <th></th>\n",
       "      <th>unique_key</th>\n",
       "      <th>bnpp_value_log</th>\n",
       "      <th>BNP_value</th>\n",
       "      <th>path</th>\n",
       "      <th>heart</th>\n",
       "    </tr>\n",
       "  </thead>\n",
       "  <tbody>\n",
       "    <tr>\n",
       "      <th>0</th>\n",
       "      <td>Abachug_50267230_img1</td>\n",
       "      <td>2.621176</td>\n",
       "      <td>418.0</td>\n",
       "      <td>/home/ddavilag/private/data/bnpp_224_pandas/Ab...</td>\n",
       "      <td>1</td>\n",
       "    </tr>\n",
       "    <tr>\n",
       "      <th>1</th>\n",
       "      <td>Abafouck_52403307_img1</td>\n",
       "      <td>2.071882</td>\n",
       "      <td>118.0</td>\n",
       "      <td>/home/ddavilag/private/data/bnpp_224_pandas/Ab...</td>\n",
       "      <td>0</td>\n",
       "    </tr>\n",
       "    <tr>\n",
       "      <th>2</th>\n",
       "      <td>Abagash_52691625_img1</td>\n",
       "      <td>1.698101</td>\n",
       "      <td>49.9</td>\n",
       "      <td>/home/ddavilag/private/data/bnpp_224_pandas/Ab...</td>\n",
       "      <td>0</td>\n",
       "    </tr>\n",
       "    <tr>\n",
       "      <th>3</th>\n",
       "      <td>Abakleem_50725934_img1</td>\n",
       "      <td>4.301659</td>\n",
       "      <td>20029.0</td>\n",
       "      <td>/home/ddavilag/private/data/bnpp_224_pandas/Ab...</td>\n",
       "      <td>1</td>\n",
       "    </tr>\n",
       "    <tr>\n",
       "      <th>4</th>\n",
       "      <td>Abaphos_51936331_img1</td>\n",
       "      <td>3.219323</td>\n",
       "      <td>1657.0</td>\n",
       "      <td>/home/ddavilag/private/data/bnpp_224_pandas/Ab...</td>\n",
       "      <td>1</td>\n",
       "    </tr>\n",
       "    <tr>\n",
       "      <th>...</th>\n",
       "      <td>...</td>\n",
       "      <td>...</td>\n",
       "      <td>...</td>\n",
       "      <td>...</td>\n",
       "      <td>...</td>\n",
       "    </tr>\n",
       "    <tr>\n",
       "      <th>15159</th>\n",
       "      <td>Zolisjeg_52354860_img1</td>\n",
       "      <td>2.550228</td>\n",
       "      <td>355.0</td>\n",
       "      <td>/home/ddavilag/private/data/bnpp_224_pandas/Zo...</td>\n",
       "      <td>0</td>\n",
       "    </tr>\n",
       "    <tr>\n",
       "      <th>15160</th>\n",
       "      <td>Zufibo_50586634_img1</td>\n",
       "      <td>2.772322</td>\n",
       "      <td>592.0</td>\n",
       "      <td>/home/ddavilag/private/data/bnpp_224_pandas/Zu...</td>\n",
       "      <td>1</td>\n",
       "    </tr>\n",
       "    <tr>\n",
       "      <th>15161</th>\n",
       "      <td>Zufosloo_50189474_img1</td>\n",
       "      <td>3.475381</td>\n",
       "      <td>2988.0</td>\n",
       "      <td>/home/ddavilag/private/data/bnpp_224_pandas/Zu...</td>\n",
       "      <td>1</td>\n",
       "    </tr>\n",
       "    <tr>\n",
       "      <th>15162</th>\n",
       "      <td>Zunakot_51932665_img1</td>\n",
       "      <td>2.089905</td>\n",
       "      <td>123.0</td>\n",
       "      <td>/home/ddavilag/private/data/bnpp_224_pandas/Zu...</td>\n",
       "      <td>0</td>\n",
       "    </tr>\n",
       "    <tr>\n",
       "      <th>15163</th>\n",
       "      <td>Zuridi_50548513_img1</td>\n",
       "      <td>3.188084</td>\n",
       "      <td>1542.0</td>\n",
       "      <td>/home/ddavilag/private/data/bnpp_224_pandas/Zu...</td>\n",
       "      <td>1</td>\n",
       "    </tr>\n",
       "  </tbody>\n",
       "</table>\n",
       "<p>15164 rows × 5 columns</p>\n",
       "</div>"
      ],
      "text/plain": [
       "                   unique_key  bnpp_value_log  BNP_value  \\\n",
       "0       Abachug_50267230_img1        2.621176      418.0   \n",
       "1      Abafouck_52403307_img1        2.071882      118.0   \n",
       "2       Abagash_52691625_img1        1.698101       49.9   \n",
       "3      Abakleem_50725934_img1        4.301659    20029.0   \n",
       "4       Abaphos_51936331_img1        3.219323     1657.0   \n",
       "...                       ...             ...        ...   \n",
       "15159  Zolisjeg_52354860_img1        2.550228      355.0   \n",
       "15160    Zufibo_50586634_img1        2.772322      592.0   \n",
       "15161  Zufosloo_50189474_img1        3.475381     2988.0   \n",
       "15162   Zunakot_51932665_img1        2.089905      123.0   \n",
       "15163    Zuridi_50548513_img1        3.188084     1542.0   \n",
       "\n",
       "                                                    path  heart  \n",
       "0      /home/ddavilag/private/data/bnpp_224_pandas/Ab...      1  \n",
       "1      /home/ddavilag/private/data/bnpp_224_pandas/Ab...      0  \n",
       "2      /home/ddavilag/private/data/bnpp_224_pandas/Ab...      0  \n",
       "3      /home/ddavilag/private/data/bnpp_224_pandas/Ab...      1  \n",
       "4      /home/ddavilag/private/data/bnpp_224_pandas/Ab...      1  \n",
       "...                                                  ...    ...  \n",
       "15159  /home/ddavilag/private/data/bnpp_224_pandas/Zo...      0  \n",
       "15160  /home/ddavilag/private/data/bnpp_224_pandas/Zu...      1  \n",
       "15161  /home/ddavilag/private/data/bnpp_224_pandas/Zu...      1  \n",
       "15162  /home/ddavilag/private/data/bnpp_224_pandas/Zu...      0  \n",
       "15163  /home/ddavilag/private/data/bnpp_224_pandas/Zu...      1  \n",
       "\n",
       "[15164 rows x 5 columns]"
      ]
     },
     "execution_count": 4,
     "metadata": {},
     "output_type": "execute_result"
    }
   ],
   "source": [
    "train_df"
   ]
  },
  {
   "cell_type": "code",
   "execution_count": 7,
   "id": "112657de",
   "metadata": {},
   "outputs": [],
   "source": [
    "train_df.to_csv(\"/home/ddavilag/private/DSC180A_Final/DSC180A/data/out/traindata.csv\")\n",
    "test_df.to_csv(\"/home/ddavilag/private/DSC180A_Final/DSC180A/data/out/testdata.csv\")\n",
    "val_df.to_csv(\"/home/ddavilag/private/DSC180A_Final/DSC180A/data/out/valdata.csv\")"
   ]
  },
  {
   "cell_type": "code",
   "execution_count": null,
   "id": "6a59cd7c",
   "metadata": {},
   "outputs": [],
   "source": [
    "test_df.to_csv(\"/home/ddavilag/private/DSC180A_Final/DSC180A/data/out/testdata.csv\")"
   ]
  }
 ],
 "metadata": {
  "kernelspec": {
   "display_name": "Python 3 (ipykernel)",
   "language": "python",
   "name": "python3"
  },
  "language_info": {
   "codemirror_mode": {
    "name": "ipython",
    "version": 3
   },
   "file_extension": ".py",
   "mimetype": "text/x-python",
   "name": "python",
   "nbconvert_exporter": "python",
   "pygments_lexer": "ipython3",
   "version": "3.9.5"
  }
 },
 "nbformat": 4,
 "nbformat_minor": 5
}
